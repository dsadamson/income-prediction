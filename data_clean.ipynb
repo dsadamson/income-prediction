{
 "cells": [
  {
   "cell_type": "code",
   "execution_count": 1,
   "metadata": {},
   "outputs": [],
   "source": [
    "import findspark\n",
    "import pandas as pd\n",
    "from sklearn.model_selection import train_test_split\n",
    "from sklearn.preprocessing import StandardScaler,OneHotEncoder\n",
    "import matplotlib.pyplot as plt\n",
    "import tensorflow as tf\n",
    "from pyspark.sql import Row\n",
    "import numpy as np\n",
    "from pyspark.sql.types import StructField, StringType, IntegerType, StructType\n",
    "from pyspark.sql import SparkSession\n",
    "findspark.init()"
   ]
  },
  {
   "cell_type": "code",
   "execution_count": 2,
   "metadata": {},
   "outputs": [],
   "source": [
    "spark = SparkSession.builder.appName(\"DataCleaning\").getOrCreate()"
   ]
  },
  {
   "cell_type": "code",
   "execution_count": 3,
   "metadata": {},
   "outputs": [],
   "source": [
    "from pyspark import SparkFiles\n",
    "file = \"original.csv\"\n",
    "spark.sparkContext.addFile(file)\n",
    "df = spark.read.csv(SparkFiles.get(\"original.csv\"), sep=\",\", header=True)\n",
    "df.createOrReplaceTempView('income_spark')"
   ]
  },
  {
   "cell_type": "code",
   "execution_count": 4,
   "metadata": {},
   "outputs": [
    {
     "name": "stdout",
     "output_type": "stream",
     "text": [
      "+---+----------------+------+------------+-------------+------------------+-----------------+--------------+-----+------+------------+------------+--------------+--------------+------+\n",
      "|age|       workclass|fnlwgt|   education|education_num|    marital_status|       occupation|  relationship| race|   sex|capital_gain|capital_loss|hours_per_week|native_country|income|\n",
      "+---+----------------+------+------------+-------------+------------------+-----------------+--------------+-----+------+------------+------------+--------------+--------------+------+\n",
      "| 40|Self-emp-not-inc|223881| Prof-school|           15|Married-civ-spouse|   Prof-specialty|       Husband|White|  Male|       99999|           0|            70| United-States|  >50K|\n",
      "| 30|         Private|149118|     HS-grad|            9|          Divorced|     Craft-repair| Not-in-family|White|Female|           0|           0|            40| United-States| <=50K|\n",
      "| 46|         Private|109209|Some-college|           10|Married-civ-spouse|     Adm-clerical|       Husband|White|  Male|           0|           0|            40| United-States|  >50K|\n",
      "| 32|         Private|229566|   Assoc-voc|           11|Married-civ-spouse|    Other-service|       Husband|White|  Male|           0|           0|            60| United-States|  >50K|\n",
      "| 54|               ?|148657|   Preschool|            1|Married-civ-spouse|                ?|          Wife|White|Female|           0|           0|            40|        Mexico| <=50K|\n",
      "| 63|         Private|111963|Some-college|           10|Married-civ-spouse|   Prof-specialty|       Husband|White|  Male|           0|           0|            16| United-States| <=50K|\n",
      "| 25|         Private|207875|     7th-8th|            4|Married-civ-spouse|Handlers-cleaners|       Husband|White|  Male|           0|           0|            40|        Mexico| <=50K|\n",
      "| 71|       Local-gov|229110|     HS-grad|            9|           Widowed|  Exec-managerial|Other-relative|White|Female|           0|           0|            33| United-States| <=50K|\n",
      "| 37|         Private| 66686|     HS-grad|            9|Married-civ-spouse|Handlers-cleaners|       Husband|White|  Male|           0|           0|            40| United-States| <=50K|\n",
      "| 44|         Private|227399|   Assoc-voc|           11|Married-civ-spouse|  Exec-managerial|       Husband|Black|  Male|           0|           0|            40| United-States| <=50K|\n",
      "| 21|         Private| 57916|     HS-grad|            9|     Never-married|  Protective-serv|     Own-child|White|  Male|           0|           0|            40| United-States| <=50K|\n",
      "| 37|       Local-gov|244803|     HS-grad|            9|Married-civ-spouse|     Craft-repair|       Husband|White|  Male|           0|           0|            40|             ?| <=50K|\n",
      "| 18|         Private|127388|        12th|            8|     Never-married|    Other-service| Not-in-family|White|Female|           0|           0|            25| United-States| <=50K|\n",
      "| 33|         Private|117963|   Bachelors|           13|Married-civ-spouse|  Exec-managerial|       Husband|White|  Male|           0|           0|            40| United-States|  >50K|\n",
      "| 29|         Private| 29732|   Bachelors|           13|Married-civ-spouse|   Prof-specialty|          Wife|White|Female|           0|           0|            24| United-States| <=50K|\n",
      "| 46|         Private|369538|Some-college|           10|Married-civ-spouse|            Sales|       Husband|White|  Male|           0|           0|            40| United-States|  >50K|\n",
      "| 58|    Self-emp-inc|174864|     HS-grad|            9|Married-civ-spouse|            Sales|       Husband|White|  Male|           0|           0|            55| United-States|  >50K|\n",
      "| 42|       State-gov|212027|   Bachelors|           13|          Divorced|   Prof-specialty| Not-in-family|Black|  Male|           0|           0|            40| United-States| <=50K|\n",
      "| 45|       State-gov|110311|     Masters|           14|          Divorced|  Exec-managerial|     Unmarried|White|Female|           0|           0|            40| United-States| <=50K|\n",
      "| 62|Self-emp-not-inc|102631|Some-college|           10|           Widowed|  Farming-fishing|     Unmarried|White|Female|           0|           0|            50| United-States| <=50K|\n",
      "+---+----------------+------+------------+-------------+------------------+-----------------+--------------+-----+------+------------+------------+--------------+--------------+------+\n",
      "only showing top 20 rows\n",
      "\n"
     ]
    }
   ],
   "source": [
    "df.show()"
   ]
  },
  {
   "cell_type": "code",
   "execution_count": 5,
   "metadata": {},
   "outputs": [],
   "source": [
    "#using spark.sql pull all the columsn from the df except for capital.gains, capital.loss, and fnlwgt\n",
    "df = spark.sql(\"\"\"SELECT age, \n",
    "               workclass, \n",
    "               education, \n",
    "               education_num, \n",
    "               marital_status, \n",
    "               occupation, \n",
    "               relationship, \n",
    "               race, \n",
    "               sex, \n",
    "               hours_per_week, \n",
    "               native_country, \n",
    "               income\n",
    "               FROM income_spark\"\"\")"
   ]
  },
  {
   "cell_type": "code",
   "execution_count": 6,
   "metadata": {},
   "outputs": [],
   "source": [
    "#make the spark dataframe df a pandas dataframe\n",
    "income = df.toPandas()"
   ]
  },
  {
   "cell_type": "code",
   "execution_count": 7,
   "metadata": {},
   "outputs": [
    {
     "data": {
      "text/html": [
       "<div>\n",
       "<style scoped>\n",
       "    .dataframe tbody tr th:only-of-type {\n",
       "        vertical-align: middle;\n",
       "    }\n",
       "\n",
       "    .dataframe tbody tr th {\n",
       "        vertical-align: top;\n",
       "    }\n",
       "\n",
       "    .dataframe thead th {\n",
       "        text-align: right;\n",
       "    }\n",
       "</style>\n",
       "<table border=\"1\" class=\"dataframe\">\n",
       "  <thead>\n",
       "    <tr style=\"text-align: right;\">\n",
       "      <th></th>\n",
       "      <th>age</th>\n",
       "      <th>workclass</th>\n",
       "      <th>education</th>\n",
       "      <th>education_num</th>\n",
       "      <th>marital_status</th>\n",
       "      <th>occupation</th>\n",
       "      <th>relationship</th>\n",
       "      <th>race</th>\n",
       "      <th>sex</th>\n",
       "      <th>hours_per_week</th>\n",
       "      <th>native_country</th>\n",
       "      <th>income</th>\n",
       "    </tr>\n",
       "  </thead>\n",
       "  <tbody>\n",
       "    <tr>\n",
       "      <th>0</th>\n",
       "      <td>40</td>\n",
       "      <td>Self-emp-not-inc</td>\n",
       "      <td>Prof-school</td>\n",
       "      <td>15</td>\n",
       "      <td>Married-civ-spouse</td>\n",
       "      <td>Prof-specialty</td>\n",
       "      <td>Husband</td>\n",
       "      <td>White</td>\n",
       "      <td>Male</td>\n",
       "      <td>70</td>\n",
       "      <td>United-States</td>\n",
       "      <td>&gt;50K</td>\n",
       "    </tr>\n",
       "    <tr>\n",
       "      <th>1</th>\n",
       "      <td>30</td>\n",
       "      <td>Private</td>\n",
       "      <td>HS-grad</td>\n",
       "      <td>9</td>\n",
       "      <td>Divorced</td>\n",
       "      <td>Craft-repair</td>\n",
       "      <td>Not-in-family</td>\n",
       "      <td>White</td>\n",
       "      <td>Female</td>\n",
       "      <td>40</td>\n",
       "      <td>United-States</td>\n",
       "      <td>&lt;=50K</td>\n",
       "    </tr>\n",
       "    <tr>\n",
       "      <th>2</th>\n",
       "      <td>46</td>\n",
       "      <td>Private</td>\n",
       "      <td>Some-college</td>\n",
       "      <td>10</td>\n",
       "      <td>Married-civ-spouse</td>\n",
       "      <td>Adm-clerical</td>\n",
       "      <td>Husband</td>\n",
       "      <td>White</td>\n",
       "      <td>Male</td>\n",
       "      <td>40</td>\n",
       "      <td>United-States</td>\n",
       "      <td>&gt;50K</td>\n",
       "    </tr>\n",
       "    <tr>\n",
       "      <th>3</th>\n",
       "      <td>32</td>\n",
       "      <td>Private</td>\n",
       "      <td>Assoc-voc</td>\n",
       "      <td>11</td>\n",
       "      <td>Married-civ-spouse</td>\n",
       "      <td>Other-service</td>\n",
       "      <td>Husband</td>\n",
       "      <td>White</td>\n",
       "      <td>Male</td>\n",
       "      <td>60</td>\n",
       "      <td>United-States</td>\n",
       "      <td>&gt;50K</td>\n",
       "    </tr>\n",
       "    <tr>\n",
       "      <th>4</th>\n",
       "      <td>54</td>\n",
       "      <td>NaN</td>\n",
       "      <td>Preschool</td>\n",
       "      <td>1</td>\n",
       "      <td>Married-civ-spouse</td>\n",
       "      <td>NaN</td>\n",
       "      <td>Wife</td>\n",
       "      <td>White</td>\n",
       "      <td>Female</td>\n",
       "      <td>40</td>\n",
       "      <td>Mexico</td>\n",
       "      <td>&lt;=50K</td>\n",
       "    </tr>\n",
       "  </tbody>\n",
       "</table>\n",
       "</div>"
      ],
      "text/plain": [
       "  age         workclass     education education_num      marital_status  \\\n",
       "0  40  Self-emp-not-inc   Prof-school            15  Married-civ-spouse   \n",
       "1  30           Private       HS-grad             9            Divorced   \n",
       "2  46           Private  Some-college            10  Married-civ-spouse   \n",
       "3  32           Private     Assoc-voc            11  Married-civ-spouse   \n",
       "4  54               NaN     Preschool             1  Married-civ-spouse   \n",
       "\n",
       "       occupation   relationship   race     sex hours_per_week native_country  \\\n",
       "0  Prof-specialty        Husband  White    Male             70  United-States   \n",
       "1    Craft-repair  Not-in-family  White  Female             40  United-States   \n",
       "2    Adm-clerical        Husband  White    Male             40  United-States   \n",
       "3   Other-service        Husband  White    Male             60  United-States   \n",
       "4             NaN           Wife  White  Female             40         Mexico   \n",
       "\n",
       "  income  \n",
       "0   >50K  \n",
       "1  <=50K  \n",
       "2   >50K  \n",
       "3   >50K  \n",
       "4  <=50K  "
      ]
     },
     "execution_count": 7,
     "metadata": {},
     "output_type": "execute_result"
    }
   ],
   "source": [
    "#delete lines with missing values\n",
    "income.replace(\"?\", np.nan, inplace=True)\n",
    "income.head()"
   ]
  },
  {
   "cell_type": "code",
   "execution_count": 8,
   "metadata": {},
   "outputs": [],
   "source": [
    "#remove all rows with NaN values\n",
    "df = df.dropna()"
   ]
  },
  {
   "cell_type": "code",
   "execution_count": 9,
   "metadata": {},
   "outputs": [],
   "source": [
    "#export and replace income.csv with the data in income\n",
    "income.to_csv('income.csv', index=False)\n"
   ]
  }
 ],
 "metadata": {
  "kernelspec": {
   "display_name": "base",
   "language": "python",
   "name": "python3"
  },
  "language_info": {
   "codemirror_mode": {
    "name": "ipython",
    "version": 3
   },
   "file_extension": ".py",
   "mimetype": "text/x-python",
   "name": "python",
   "nbconvert_exporter": "python",
   "pygments_lexer": "ipython3",
   "version": "3.10.9"
  },
  "orig_nbformat": 4
 },
 "nbformat": 4,
 "nbformat_minor": 2
}
